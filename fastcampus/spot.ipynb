{
 "metadata": {
  "language_info": {
   "codemirror_mode": {
    "name": "ipython",
    "version": 3
   },
   "file_extension": ".py",
   "mimetype": "text/x-python",
   "name": "python",
   "nbconvert_exporter": "python",
   "pygments_lexer": "ipython3",
   "version": "3.9.4"
  },
  "orig_nbformat": 4,
  "kernelspec": {
   "name": "python3",
   "display_name": "Python 3.9.4 64-bit ('base': conda)"
  },
  "interpreter": {
   "hash": "95ec9ec1504d83f612128e0fb229072f90bbb4cb09d9d5d93b5dd26e0ca2cfd1"
  }
 },
 "nbformat": 4,
 "nbformat_minor": 2,
 "cells": [
  {
   "cell_type": "code",
   "execution_count": 3,
   "metadata": {},
   "outputs": [
    {
     "output_type": "stream",
     "name": "stdout",
     "text": [
      "<class 'dict'>\n"
     ]
    },
    {
     "output_type": "error",
     "ename": "SystemExit",
     "evalue": "0",
     "traceback": [
      "An exception has occurred, use %tb to see the full traceback.\n",
      "\u001b[0;31mSystemExit\u001b[0m\u001b[0;31m:\u001b[0m 0\n"
     ]
    }
   ],
   "source": [
    "import sys\n",
    "import requests\n",
    "import base64\n",
    "import json\n",
    "import logging\n",
    "\n",
    "client_id  = \"97fe3570d286403297627bee98da65ed\"\n",
    "client_secret = \"f18af107dea4467fa06ca91f42672a16\"\n",
    "\n",
    "def main():\n",
    "    endpoint = \"https://accounts.spotify.com/api/token\"\n",
    "    encoded = base64.b64encode(\"{}:{}\".format(client_id, client_secret).encode('utf-8')).decode('ascii')\n",
    "\n",
    "    headers = {\n",
    "        \"Authorization\": \"Basic {}\".format(encoded)\n",
    "    }\n",
    "    payload = {\n",
    "        \"grant_type\": \"client_credentials\"\n",
    "    }\n",
    "\n",
    "    r = requests.post(endpoint, data=payload, headers=headers)\n",
    "\n",
    "    # print(r.status_code)\n",
    "    # print(r.text)\n",
    "    # sys.exit(0)\n",
    "\n",
    "    access_token = json.loads(r.text)\n",
    "    print(type(access_token))\n",
    "    sys.exit(0)\n",
    "    access_token = json.loads(r.text)['access_token']\n",
    "    headers = {\n",
    "        \"Authorization\" : \"Bearer {}\".format(access_token)\n",
    "    }\n",
    "if __name__=='__main__':\n",
    "    main()"
   ]
  },
  {
   "cell_type": "code",
   "execution_count": null,
   "metadata": {},
   "outputs": [],
   "source": [
    "import sys\n",
    "import requests\n",
    "import base64\n",
    "import json\n",
    "import logging\n",
    "\n",
    "client_id  = \"97fe3570d286403297627bee98da65ed\"\n",
    "client_secret = \"f18af107dea4467fa06ca91f42672a16\"\n",
    "\n",
    "\n",
    "def main():\n",
    "\n",
    "    headers = get_headers(client_id, client_secret)\n",
    "\n",
    "    ## Spotify Search API\n",
    "    params = {\n",
    "        \"q\": \"BTS\",\n",
    "        \"type\": \"artist\",\n",
    "        \"limit\": \"5\"\n",
    "    }\n",
    "\n",
    "\n",
    "    r = requests.get(\"https://api.spotify.com/v1/search\", params=params, headers=headers)\n",
    "\n",
    "    print(r.status_code)\n",
    "    print(r.text)\n",
    "    print(r.headers)\n",
    "    sys.exit(0)\n",
    "\n",
    "\n",
    "\n",
    "def get_headers(client_id, client_secret):\n",
    "\n",
    "    endpoint = \"https://accounts.spotify.com/api/token\"\n",
    "    encoded = base64.b64encode(\"{}:{}\".format(client_id, client_secret).encode('utf-8')).decode('ascii')\n",
    "\n",
    "    headers = {\n",
    "        \"Authorization\": \"Basic {}\".format(encoded)\n",
    "    }\n",
    "\n",
    "    payload = {\n",
    "        \"grant_type\": \"client_credentials\"\n",
    "    }\n",
    "\n",
    "    r = requests.post(endpoint, data=payload, headers=headers)\n",
    "\n",
    "    access_token = json.loads(r.text)['access_token']\n",
    "\n",
    "    headers = {\n",
    "        \"Authorization\": \"Bearer {}\".format(access_token)\n",
    "    }\n",
    "\n",
    "    return headers\n",
    "\n",
    "\n",
    "\n",
    "\n",
    "if __name__=='__main__':\n",
    "    main()\n"
   ]
  }
 ]
}